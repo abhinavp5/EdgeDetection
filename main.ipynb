{
 "cells": [
  {
   "cell_type": "code",
   "execution_count": null,
   "metadata": {},
   "outputs": [],
   "source": [
    "import numpy as np \n",
    "import matplotlib.pyplot as plt \n",
    "from PIL import Image\n",
    "import scipy.ndimage\n",
    "import os "
   ]
  },
  {
   "cell_type": "markdown",
   "metadata": {},
   "source": [
    "Loading the sample image and dispalying it in color"
   ]
  },
  {
   "cell_type": "code",
   "execution_count": null,
   "metadata": {},
   "outputs": [],
   "source": [
    "color_img = np.asarray(Image.open(\"test_image_2.jpg\"))\n",
    "plt.figure(figsize = (5,5))\n",
    "plt.title(\"Sample Image\")\n",
    "plt.imshow(color_img)"
   ]
  },
  {
   "cell_type": "markdown",
   "metadata": {},
   "source": [
    "Converting the Image to Grayscale "
   ]
  },
  {
   "cell_type": "code",
   "execution_count": null,
   "metadata": {},
   "outputs": [],
   "source": [
    "def grayscale(img):\n",
    "    r,g,b, = img[:,:,0], img[:,:,1], img[:,:,2]\n",
    "    gray_img = 0.299*r+0.587*g+0.114*b\n",
    "    return gray_img\n",
    "\n",
    "gray_img = grayscale(color_img)\n",
    "plt.figure(figsize = (5,5))\n",
    "plt.title(\"Grayscale Image\")\n",
    "plt.imshow(gray_img, cmap= \"gray\")"
   ]
  },
  {
   "cell_type": "markdown",
   "metadata": {},
   "source": [
    "Applying Gaussian Filter to smooth Noise from img"
   ]
  },
  {
   "cell_type": "code",
   "execution_count": null,
   "metadata": {},
   "outputs": [],
   "source": [
    "def gaussian_filter(filter_size, sigma):\n",
    "    kernel = np.zeros((filter_size,filter_size))\n",
    "    norm_factor = 1/(2.0*np.pi*sigma**2)\n",
    "    k = (filter_size-1)/2.0\n",
    "\n",
    "    for i in range(filter_size):\n",
    "        for j in range(filter_size):\n",
    "            x = (i-(k+1))**2\n",
    "            y = (j-(k+1))**2\n",
    "            kernel[i,j] = norm_factor*np.exp(-(x+y)/(2*sigma**2))\n",
    "            \n",
    "    return kernel\n",
    "\n",
    "\n",
    "g_filter = gaussian_filter(5,1.4) ##using a 5x5 filter and a lambda value of 1\n",
    "gaussian_blur_img = scipy.ndimage.convolve(gray_img,g_filter)\n",
    "\n",
    "plt.figure(figsize=(5,5))\n",
    "plt.title(\"Gaussian Blur Applied\")\n",
    "plt.imshow(gaussian_blur_img,cmap=\"gray\")\n"
   ]
  },
  {
   "cell_type": "markdown",
   "metadata": {},
   "source": [
    "To detect edges we need to detect contrast in pixels, there are multiple different edge detection operators that we can convolve the img with to detect contrast and hence edges. I'm going to be trying Sobel, Roberts, and Prewitts, operators."
   ]
  },
  {
   "cell_type": "code",
   "execution_count": null,
   "metadata": {},
   "outputs": [],
   "source": [
    "def edge_detect_operation(img, operator):\n",
    "    #horizontal edges\n",
    "    if operator == \"sobel\":\n",
    "        Mx = np.array([[-1,0,1],\n",
    "                    [-2,0,2],\n",
    "                    [-1,0,1]])\n",
    "        #vertical edges\n",
    "        My = np.array([[-1,-2,-1],\n",
    "                    [0,0,0],\n",
    "                    [1,2,1]])\n",
    "    elif operator == \"prewitt\":\n",
    "        Mx = np.array([[-1,0,1],\n",
    "                    [-1,0,1],\n",
    "                    [-1,0,1]])\n",
    "        #vertical edges\n",
    "        My = np.array([[-1,-1,-1],\n",
    "                    [0,0,0],\n",
    "                    [1,1,1]])\n",
    "    elif operator == \"robert\":\n",
    "        Mx = np.array([[1,0],\n",
    "                    [0,-1]])\n",
    "        #vertical edges\n",
    "        My = np.array([[0,1],\n",
    "                    [-1,0]])\n",
    "    \n",
    "        \n",
    "    Gx = scipy.ndimage.convolve(img,Mx)\n",
    "    Gy = scipy.ndimage.convolve(img,My)\n",
    "\n",
    "    G = np.hypot(Gx,Gy)\n",
    "\n",
    "    theta = np.arctan2(Gy,Gx)\n",
    "\n",
    "    return G, theta\n",
    "\n",
    "sobel_img , sobel_theta= edge_detect_operation(gray_img,\"sobel\")\n",
    "prewitt_img , prewitt_theta= edge_detect_operation(gray_img,\"prewitt\")\n",
    "robert_img, robert_theta = edge_detect_operation(gray_img,\"robert\")\n",
    "\n",
    "_, imgp = plt.subplots(1,3, figsize = (15,5))\n",
    "\n",
    "imgp[0].set_title(\"Sobel Operator Image\")\n",
    "imgp[0].imshow(sobel_img,cmap = \"gray\")\n",
    "imgp[0].axis(\"off\")\n",
    "\n",
    "\n",
    "imgp[1].set_title(\"Prewitt Operator Image\")\n",
    "imgp[1].imshow(prewitt_img, cmap = \"gray\")\n",
    "imgp[1].axis(\"off\")\n",
    "\n",
    "imgp[2].set_title(\"Robert operator Image\")\n",
    "imgp[2].imshow(robert_img, cmap = \"gray\")\n",
    "imgp[2].axis(\"off\")"
   ]
  },
  {
   "cell_type": "markdown",
   "metadata": {},
   "source": [
    "Next we will apply non-max supression in order to thin out the edges. From the previous calculations we have the gradients for each of the pixel values, we can use the gradient data to decide whether to keep or remove a pixel. For the rest of the caluclation im going to the sobel filiter image."
   ]
  },
  {
   "cell_type": "code",
   "execution_count": null,
   "metadata": {},
   "outputs": [],
   "source": [
    "#post sobel filter image and the gradients for each of the pixels\n",
    "# directions is in degrees\n",
    "def non_max_supression(img, angles):\n",
    "    res = np.zeros_like(img)\n",
    "    M, N = img.shape  #matrix of shape MxN\n",
    "\n",
    "    N1 = 0 \n",
    "    N2 = 0 \n",
    "\n",
    "    for i in range(M-1):\n",
    "        for j in range(N-1):\n",
    "            if angles[i,j]>= -22.5 and angles[i,j]<=22.5 or angles[i,j]>= 157.5 and angles[i,j]<= -157.5:\n",
    "                N1 = img[i,j+1]\n",
    "                N2 = img[i,j-1]\n",
    "            elif angles[i,j]>= 22.5 and angles[i,j]<=67.5 or angles[i,j]>= -157.5 and angles[i,j]<= -112.5:\n",
    "                N1 = img[i-1,j+1]\n",
    "                N2 = img[i+1,j-1]\n",
    "            elif angles[i,j]>= 67.5 and angles[i,j]<=112.5 or angles[i,j]>= -112.5 and angles[i,j]<= -67.5:\n",
    "                N1 = img[i+1,j]\n",
    "                N2 = img[i-1,j]\n",
    "            elif angles[i,j]>= 112.5 and angles[i,j]<=157.5 or angles[i,j]>= -67.5 and angles[i,j]<= -22.5:\n",
    "                N1 = img[i+1,j+1]\n",
    "                N2 = img[i-1,j-1]\n",
    "    \n",
    "            if img[i,j]> N1 and img[i,j]>N2:\n",
    "                res[i,j] = img[i,j]\n",
    "    return res\n",
    "\n",
    "non_max_suppressed_img = non_max_supression(sobel_img, np.degrees(sobel_theta))\n",
    "\n",
    "\n",
    "plt.imshow(non_max_suppressed_img,cmap= \"gray\")\n",
    "plt.title(\"Image After Non-Max-Supression\")\n",
    "plt.axis(\"off\")\n",
    "plt.figure(figsize = (15,5))"
   ]
  },
  {
   "cell_type": "markdown",
   "metadata": {},
   "source": [
    "Double Threshold"
   ]
  },
  {
   "cell_type": "code",
   "execution_count": null,
   "metadata": {},
   "outputs": [],
   "source": [
    "def double_threshold(img,high):\n",
    "    res = np.zeros_like(img)\n",
    "    high_threshold = 255 * high \n",
    "\n",
    "    #low will be 1/3 of high\n",
    "    low_threshold =  high_threshold*1/3\n",
    "\n",
    "    strong_x,strong_y = np.where(img>high_threshold) \n",
    "    weak_x,weak_y = np.where((img>low_threshold) & (img<high_threshold))\n",
    "    supressed_x, supressed_y = np.where(img<low_threshold)\n",
    "\n",
    "    res[strong_x,strong_y] = 255\n",
    "    res[weak_x,weak_y] = 20\n",
    "    res[supressed_x,supressed_y] = 0 \n",
    "\n",
    "\n",
    "    weak = (weak_x,weak_y)\n",
    "    \n",
    "    return res, weak\n",
    "\n",
    "double_threshold_img, weak_pixels= double_threshold(non_max_suppressed_img,high = .3)\n",
    "\n",
    "plt.imshow(double_threshold_img,cmap= \"gray\")\n",
    "plt.title(\"Image After Double Threshold\")\n",
    "plt.axis(\"off\")\n",
    "plt.figure(figsize = (15,5))\n",
    "\n",
    "\n",
    "\n",
    "# def double_threshold(img, low, high):\n"
   ]
  },
  {
   "cell_type": "markdown",
   "metadata": {},
   "source": [
    "Hysteresis"
   ]
  },
  {
   "cell_type": "code",
   "execution_count": null,
   "metadata": {},
   "outputs": [],
   "source": [
    "def hysteresis(img,weak):\n",
    "    res = np.copy(img)\n",
    "    M,N = np.shape(img)\n",
    "\n",
    "    for point in zip(*weak):\n",
    "        x,y = point\n",
    "        try:\n",
    "            if (res[x-1,y-1] == 255) or (res[x,y-1] == 255) or (res[x+1,y-1] == 255) or (res[x-1,y] == 255) or (res[x+1,y] == 255) or (res[x-1,y+1] == 255) or (res[x,y+1] == 255) or (res[x+1,y+1] == 255):\n",
    "                res[x,y] = 255\n",
    "        except IndexError as e:\n",
    "            print(f\"!!!Error at edge pixle {x,y}\")\n",
    "\n",
    "    return res\n",
    "\n",
    "\n",
    "final_img = hysteresis(double_threshold_img,weak_pixels)\n",
    "\n",
    "plt.imshow(final_img,cmap= \"gray\")\n",
    "plt.title(\"Image after Hysteresis\")\n",
    "plt.axis(\"off\")\n",
    "plt.figure(figsize = (15,5))"
   ]
  }
 ],
 "metadata": {
  "kernelspec": {
   "display_name": "myvenv",
   "language": "python",
   "name": "python3"
  },
  "language_info": {
   "codemirror_mode": {
    "name": "ipython",
    "version": 3
   },
   "file_extension": ".py",
   "mimetype": "text/x-python",
   "name": "python",
   "nbconvert_exporter": "python",
   "pygments_lexer": "ipython3",
   "version": "3.12.2"
  }
 },
 "nbformat": 4,
 "nbformat_minor": 2
}
